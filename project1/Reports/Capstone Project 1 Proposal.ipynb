{
 "cells": [
  {
   "cell_type": "markdown",
   "metadata": {},
   "source": [
    "\n",
    "<center> <h1> Building a credit scoring model  </h1> </center>\n",
    "<center> <h3> Propsal for Capstone Project 1  </h3> </center>\n",
    "\n",
    "\n",
    "## Problem Statement:\n",
    "\n",
    " A credit score is a tool that aids in the process of making a decision to accept or reject a loan. This score is calculated based on feeding the information obtained at the time of loan application such as age, annual income etc.that pertain to the borrower,into a credit scoring model.  The score that the applicant receives based on this model helps to predict if the loan is likely to default or not. In this project, the focus will be to build several different credit scoring models using different\n",
    "statistical and machine learning methodology and compare these models in their ability to predict the loan default rate. \n",
    "\n",
    "## Data: \n",
    "\n",
    "The Lending club data for the years 2007 -2015 will be used and is available from\n",
    "https://www.kaggle.com/wendykan/lending-club-loan-data.\n",
    "This data consists of 88739 rows(loans) and 79 columns (features). \n",
    "\n",
    "## Problem Solving Steps:\n",
    "1.  Background Knowledge: Read up on credit scoring\n",
    "\n",
    "2. Download and understand the structure/features of the Data.\n",
    "\n",
    "3. Data Exploration: \n",
    "    * cleaning, identifying and handling missing values, categorising/binning and visualising.\n",
    "    * visually exploring the predictive strength of relevant features on default rate.\n",
    "\n",
    "4. Building credit scoring models using the following methodology:\n",
    "    1. Logistic regression\n",
    "    2. Support Vector Machines (SVM)\n",
    "    3. Naiive Bayes\n",
    "    4. Random Forest\n",
    "    5. XGBoost\n",
    "5. Evaluation of Model Performance using AUC?\n",
    "\n",
    "## Deliverables\n",
    "1.  Jupyter Notebook including Python code and explanations for the following:\n",
    "     * Data wrangling\n",
    "     * Visualization\n",
    "     * Model building\n",
    "     * Model selection\n",
    "     \n",
    "2. Report(pdf) on the analysis\n",
    "\n",
    "3. Slides\n"
   ]
  }
 ],
 "metadata": {
  "kernelspec": {
   "display_name": "Python 3",
   "language": "python",
   "name": "python3"
  },
  "language_info": {
   "codemirror_mode": {
    "name": "ipython",
    "version": 3
   },
   "file_extension": ".py",
   "mimetype": "text/x-python",
   "name": "python",
   "nbconvert_exporter": "python",
   "pygments_lexer": "ipython3",
   "version": "3.6.6"
  }
 },
 "nbformat": 4,
 "nbformat_minor": 2
}
