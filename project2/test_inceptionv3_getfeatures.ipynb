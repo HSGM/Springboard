{
 "cells": [
  {
   "cell_type": "markdown",
   "metadata": {},
   "source": [
    "#### Notebook 2\n",
    "This notebook extracts the features from the test images using an inceptionv3 model with the imagenet weights."
   ]
  },
  {
   "cell_type": "code",
   "execution_count": 1,
   "metadata": {},
   "outputs": [
    {
     "name": "stderr",
     "output_type": "stream",
     "text": [
      "Using TensorFlow backend.\n"
     ]
    }
   ],
   "source": [
    "import keras\n"
   ]
  },
  {
   "cell_type": "code",
   "execution_count": 2,
   "metadata": {},
   "outputs": [],
   "source": [
    "# keras imports\n",
    "from keras.applications.inception_v3 import InceptionV3, preprocess_input\n",
    "from keras.preprocessing import image\n",
    "from keras.models import Model\n",
    "from keras.models import model_from_json\n",
    "from keras.layers import Input\n",
    "from PIL import Image"
   ]
  },
  {
   "cell_type": "code",
   "execution_count": 3,
   "metadata": {},
   "outputs": [],
   "source": [
    "# other imports\n",
    "from sklearn.preprocessing import LabelEncoder\n",
    "import numpy as np\n",
    "import glob\n",
    "import cv2\n",
    "import h5py\n",
    "import os\n",
    "import json\n",
    "import datetime\n",
    "import time\n",
    "import PIL\n"
   ]
  },
  {
   "cell_type": "code",
   "execution_count": 4,
   "metadata": {},
   "outputs": [],
   "source": [
    "# load the user configs\n",
    "with open('room_recognition/conf/conf_inceptionv3_getfeatures.json') as f:    \n",
    "  config = json.load(f)"
   ]
  },
  {
   "cell_type": "code",
   "execution_count": 5,
   "metadata": {},
   "outputs": [],
   "source": [
    "# config variables\n",
    "model_name  = config[\"model\"]\n",
    "weights     = config[\"weights\"]\n",
    "\n",
    "test_path  =config[\"test_path\"]\n",
    "test_features_path   = config[\"test_features_path\"]\n",
    "test_labels_path   = config[\"test_labels_path\"]\n",
    "seed =config[\"seed\"]\n",
    "\n",
    "\n",
    "\n"
   ]
  },
  {
   "cell_type": "code",
   "execution_count": 6,
   "metadata": {},
   "outputs": [
    {
     "name": "stdout",
     "output_type": "stream",
     "text": [
      "[STATUS] start time - 2018-09-20 23:02\n"
     ]
    }
   ],
   "source": [
    "# start time\n",
    "print (\"[STATUS] start time - {}\".format(datetime.datetime.now().strftime(\"%Y-%m-%d %H:%M\")))\n",
    "start = time.time()"
   ]
  },
  {
   "cell_type": "code",
   "execution_count": 7,
   "metadata": {},
   "outputs": [
    {
     "name": "stdout",
     "output_type": "stream",
     "text": [
      "[INFO] successfully loaded base model and model...\n"
     ]
    }
   ],
   "source": [
    "# create the pretrained models\n",
    "base_model = InceptionV3(include_top=True, weights=weights, input_tensor=Input(shape=(299,299,3)))\n",
    "model = Model(inputs=base_model.input, outputs=base_model.get_layer('avg_pool').output)\n",
    "image_size = (299, 299)\n",
    "\n",
    "print (\"[INFO] successfully loaded base model and model...\")"
   ]
  },
  {
   "cell_type": "code",
   "execution_count": 8,
   "metadata": {},
   "outputs": [],
   "source": [
    "# path to training dataset\n",
    "test_labels = os.listdir(test_path)"
   ]
  },
  {
   "cell_type": "code",
   "execution_count": 9,
   "metadata": {},
   "outputs": [
    {
     "name": "stdout",
     "output_type": "stream",
     "text": [
      "[INFO] encoding labels...\n"
     ]
    },
    {
     "data": {
      "text/plain": [
       "LabelEncoder()"
      ]
     },
     "execution_count": 9,
     "metadata": {},
     "output_type": "execute_result"
    }
   ],
   "source": [
    "# encode the labels\n",
    "print (\"[INFO] encoding labels...\")\n",
    "le = LabelEncoder()\n",
    "le.fit([tl for tl in test_labels])\n"
   ]
  },
  {
   "cell_type": "code",
   "execution_count": 10,
   "metadata": {},
   "outputs": [],
   "source": [
    "# variables to hold features and labels\n",
    "features = []\n",
    "labels   = []"
   ]
  },
  {
   "cell_type": "code",
   "execution_count": 11,
   "metadata": {},
   "outputs": [
    {
     "name": "stdout",
     "output_type": "stream",
     "text": [
      "[INFO] processed - 1\n",
      "[INFO] processed - 2\n",
      "[INFO] processed - 3\n",
      "[INFO] processed - 4\n",
      "[INFO] processed - 5\n",
      "[INFO] processed - 6\n",
      "[INFO] processed - 7\n",
      "[INFO] processed - 8\n",
      "[INFO] processed - 9\n",
      "[INFO] processed - 10\n",
      "[INFO] processed - 11\n",
      "[INFO] processed - 12\n",
      "[INFO] processed - 13\n",
      "[INFO] processed - 14\n",
      "[INFO] processed - 15\n",
      "[INFO] processed - 16\n",
      "[INFO] processed - 17\n",
      "[INFO] processed - 18\n",
      "[INFO] processed - 19\n",
      "[INFO] processed - 20\n",
      "[INFO] completed label - bathroom\n",
      "[INFO] processed - 1\n",
      "[INFO] processed - 2\n",
      "[INFO] processed - 3\n",
      "[INFO] processed - 4\n",
      "[INFO] processed - 5\n",
      "[INFO] processed - 6\n",
      "[INFO] processed - 7\n",
      "[INFO] processed - 8\n",
      "[INFO] processed - 9\n",
      "[INFO] processed - 10\n",
      "[INFO] processed - 11\n",
      "[INFO] processed - 12\n",
      "[INFO] processed - 13\n",
      "[INFO] processed - 14\n",
      "[INFO] processed - 15\n",
      "[INFO] processed - 16\n",
      "[INFO] processed - 17\n",
      "[INFO] processed - 18\n",
      "[INFO] processed - 19\n",
      "[INFO] processed - 20\n",
      "[INFO] completed label - pantry\n",
      "[INFO] processed - 1\n",
      "[INFO] processed - 2\n",
      "[INFO] processed - 3\n",
      "[INFO] processed - 4\n",
      "[INFO] processed - 5\n",
      "[INFO] processed - 6\n",
      "[INFO] processed - 7\n",
      "[INFO] processed - 8\n",
      "[INFO] processed - 9\n",
      "[INFO] processed - 10\n",
      "[INFO] processed - 11\n",
      "[INFO] processed - 12\n",
      "[INFO] processed - 13\n",
      "[INFO] processed - 14\n",
      "[INFO] processed - 15\n",
      "[INFO] processed - 16\n",
      "[INFO] processed - 17\n",
      "[INFO] processed - 18\n",
      "[INFO] processed - 19\n",
      "[INFO] processed - 20\n",
      "[INFO] completed label - bedroom\n",
      "[INFO] processed - 1\n",
      "[INFO] processed - 2\n",
      "[INFO] processed - 3\n",
      "[INFO] processed - 4\n",
      "[INFO] processed - 5\n",
      "[INFO] processed - 6\n",
      "[INFO] processed - 7\n",
      "[INFO] processed - 8\n",
      "[INFO] processed - 9\n",
      "[INFO] processed - 10\n",
      "[INFO] processed - 11\n",
      "[INFO] processed - 12\n",
      "[INFO] processed - 13\n",
      "[INFO] processed - 14\n",
      "[INFO] processed - 15\n",
      "[INFO] processed - 16\n",
      "[INFO] processed - 17\n",
      "[INFO] processed - 18\n",
      "[INFO] processed - 19\n",
      "[INFO] processed - 20\n",
      "[INFO] completed label - livingroom\n",
      "[INFO] processed - 1\n",
      "[INFO] processed - 2\n",
      "[INFO] processed - 3\n",
      "[INFO] processed - 4\n",
      "[INFO] processed - 5\n",
      "[INFO] processed - 6\n",
      "[INFO] processed - 7\n",
      "[INFO] processed - 8\n",
      "[INFO] processed - 9\n",
      "[INFO] processed - 10\n",
      "[INFO] processed - 11\n",
      "[INFO] processed - 12\n",
      "[INFO] processed - 13\n",
      "[INFO] processed - 14\n",
      "[INFO] processed - 15\n",
      "[INFO] processed - 16\n",
      "[INFO] processed - 17\n",
      "[INFO] processed - 18\n",
      "[INFO] processed - 19\n",
      "[INFO] processed - 20\n",
      "[INFO] completed label - dining_room\n",
      "[INFO] completed label - .ipynb_checkpoints\n",
      "[INFO] processed - 1\n",
      "[INFO] processed - 2\n",
      "[INFO] processed - 3\n",
      "[INFO] processed - 4\n",
      "[INFO] processed - 5\n",
      "[INFO] processed - 6\n",
      "[INFO] processed - 7\n",
      "[INFO] processed - 8\n",
      "[INFO] processed - 9\n",
      "[INFO] processed - 10\n",
      "[INFO] processed - 11\n",
      "[INFO] processed - 12\n",
      "[INFO] processed - 13\n",
      "[INFO] processed - 14\n",
      "[INFO] processed - 15\n",
      "[INFO] processed - 16\n",
      "[INFO] processed - 17\n",
      "[INFO] processed - 18\n",
      "[INFO] processed - 19\n",
      "[INFO] processed - 20\n",
      "[INFO] completed label - corridor\n",
      "[INFO] processed - 1\n",
      "[INFO] processed - 2\n",
      "[INFO] processed - 3\n",
      "[INFO] processed - 4\n",
      "[INFO] processed - 5\n",
      "[INFO] processed - 6\n",
      "[INFO] processed - 7\n",
      "[INFO] processed - 8\n",
      "[INFO] processed - 9\n",
      "[INFO] processed - 10\n",
      "[INFO] processed - 11\n",
      "[INFO] processed - 12\n",
      "[INFO] processed - 13\n",
      "[INFO] processed - 14\n",
      "[INFO] processed - 15\n",
      "[INFO] processed - 16\n",
      "[INFO] processed - 17\n",
      "[INFO] processed - 18\n",
      "[INFO] processed - 19\n",
      "[INFO] processed - 20\n",
      "[INFO] completed label - kitchen\n",
      "[INFO] processed - 1\n",
      "[INFO] processed - 2\n",
      "[INFO] processed - 3\n",
      "[INFO] processed - 4\n",
      "[INFO] processed - 5\n",
      "[INFO] processed - 6\n",
      "[INFO] processed - 7\n",
      "[INFO] processed - 8\n",
      "[INFO] processed - 9\n",
      "[INFO] processed - 10\n",
      "[INFO] processed - 11\n",
      "[INFO] processed - 12\n",
      "[INFO] processed - 13\n",
      "[INFO] processed - 14\n",
      "[INFO] processed - 15\n",
      "[INFO] processed - 16\n",
      "[INFO] processed - 17\n",
      "[INFO] processed - 18\n",
      "[INFO] processed - 19\n",
      "[INFO] processed - 20\n",
      "[INFO] completed label - stairscase\n"
     ]
    }
   ],
   "source": [
    "# loop over all the labels in the folder\n",
    "count = 1\n",
    "for i, label in enumerate(test_labels):\n",
    "  cur_path = test_path + \"/\" + label\n",
    "  count = 1\n",
    "  for image_path in glob.glob(cur_path + \"/*.jpg\"):\n",
    "    img = image.load_img(image_path, target_size=image_size)\n",
    "    x = image.img_to_array(img)\n",
    "    x = np.expand_dims(x, axis=0)\n",
    "    x = preprocess_input(x)\n",
    "    feature = model.predict(x)\n",
    "    flat = feature.flatten()\n",
    "    features.append(flat)\n",
    "    labels.append(label)\n",
    "    print (\"[INFO] processed - \" + str(count))\n",
    "    count += 1\n",
    "  print (\"[INFO] completed label - \" + label)\n"
   ]
  },
  {
   "cell_type": "code",
   "execution_count": 12,
   "metadata": {},
   "outputs": [],
   "source": [
    "# encode the labels using LabelEncoder\n",
    "le = LabelEncoder()\n",
    "le_labels = le.fit_transform(labels)"
   ]
  },
  {
   "cell_type": "code",
   "execution_count": 13,
   "metadata": {},
   "outputs": [
    {
     "name": "stdout",
     "output_type": "stream",
     "text": [
      "[STATUS] test labels: [0 0 0 0 0 0 0 0 0 0 0 0 0 0 0 0 0 0 0 0 6 6 6 6 6 6 6 6 6 6 6 6 6 6 6 6 6\n",
      " 6 6 6 1 1 1 1 1 1 1 1 1 1 1 1 1 1 1 1 1 1 1 1 5 5 5 5 5 5 5 5 5 5 5 5 5 5\n",
      " 5 5 5 5 5 5 3 3 3 3 3 3 3 3 3 3 3 3 3 3 3 3 3 3 3 3 2 2 2 2 2 2 2 2 2 2 2\n",
      " 2 2 2 2 2 2 2 2 2 4 4 4 4 4 4 4 4 4 4 4 4 4 4 4 4 4 4 4 4 7 7 7 7 7 7 7 7\n",
      " 7 7 7 7 7 7 7 7 7 7 7 7]\n",
      "[STATUS] test labels shape: (160,)\n"
     ]
    }
   ],
   "source": [
    "# get the shape of training labels\n",
    "print (\"[STATUS] test labels: {}\".format(le_labels))\n",
    "print (\"[STATUS] test labels shape: {}\".format(le_labels.shape))"
   ]
  },
  {
   "cell_type": "code",
   "execution_count": 14,
   "metadata": {
    "scrolled": true
   },
   "outputs": [],
   "source": [
    "# save features and labels\n",
    "h5f_data = h5py.File(test_features_path, 'w')\n",
    "h5f_data.create_dataset('dataset_1', data=np.array(features))\n",
    "\n",
    "h5f_label = h5py.File(test_labels_path, 'w')\n",
    "h5f_label.create_dataset('dataset_1', data=np.array(le_labels))\n",
    "\n",
    "h5f_data.close()\n",
    "h5f_label.close()"
   ]
  },
  {
   "cell_type": "code",
   "execution_count": 15,
   "metadata": {},
   "outputs": [
    {
     "name": "stdout",
     "output_type": "stream",
     "text": [
      "[STATUS] end time - 2018-09-20 23:03\n"
     ]
    }
   ],
   "source": [
    "# end time\n",
    "end = time.time()\n",
    "print (\"[STATUS] end time - {}\".format(datetime.datetime.now().strftime(\"%Y-%m-%d %H:%M\")))"
   ]
  },
  {
   "cell_type": "code",
   "execution_count": null,
   "metadata": {},
   "outputs": [],
   "source": []
  },
  {
   "cell_type": "code",
   "execution_count": null,
   "metadata": {},
   "outputs": [],
   "source": []
  },
  {
   "cell_type": "code",
   "execution_count": null,
   "metadata": {},
   "outputs": [],
   "source": []
  }
 ],
 "metadata": {
  "kernelspec": {
   "display_name": "Python [conda env:tensorflow_p36]",
   "language": "python",
   "name": "conda-env-tensorflow_p36-py"
  },
  "language_info": {
   "codemirror_mode": {
    "name": "ipython",
    "version": 3
   },
   "file_extension": ".py",
   "mimetype": "text/x-python",
   "name": "python",
   "nbconvert_exporter": "python",
   "pygments_lexer": "ipython3",
   "version": "3.6.6"
  }
 },
 "nbformat": 4,
 "nbformat_minor": 2
}
